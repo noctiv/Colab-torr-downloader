{
 "cells": [
  {
   "cell_type": "code",
   "execution_count": null,
   "metadata": {},
   "outputs": [],
   "source": [
    "from google.colab import drive\n",
    "drive.mount('/content/drive')"
   ]
  },
  {
   "cell_type": "code",
   "execution_count": null,
   "metadata": {},
   "outputs": [],
   "source": [
    "!apt install python3-libtorrent"
   ]
  },
  {
   "cell_type": "code",
   "execution_count": null,
   "metadata": {},
   "outputs": [],
   "source": [
    "import libtorrent as lt\n",
    "           import time\n",
    "          import datetime\n",
    "ses = lt.session()\n",
    "ses.listen_on(6881, 6891)\n",
    "params = {\n",
    "    'save_path': '/content/drive/My Drive/Torrent/',\n",
    "    'storage_mode': lt.storage_mode_t(2),\n",
    "    'paused': False,\n",
    "    'auto_managed': True,\n",
    "    'duplicate_is_error': True}\n",
    "link = \"__________________________\" # PASTE TORRENT/MAGNET LINK HERE\n",
    "print(link)\n",
    "\n",
    "handle = lt.add_magnet_uri(ses, link, params)\n",
    "ses.start_dht()\n",
    "\n",
    "begin = time.time()\n",
    "print(datetime.datetime.now())\n",
    "\n",
    "print ('Downloading Metadata...')\n",
    "while (not handle.has_metadata()):\n",
    "    time.sleep(1)\n",
    "print ('Got Metadata, Starting Torrent Download...')\n",
    "\n",
    "print(\"Starting\", handle.name())\n",
    "\n",
    "while (handle.status().state != lt.torrent_status.seeding):\n",
    "    s = handle.status()\n",
    "    state_str = ['queued', 'checking', 'downloading metadata', \\\n",
    "            'downloading', 'finished', 'seeding', 'allocating']\n",
    "    print ('%.2f%% complete (down: %.1f kb/s up: %.1f kB/s peers: %d) %s ' % \\\n",
    "            (s.progress * 100, s.download_rate / 1000, s.upload_rate / 1000, \\\n",
    "            s.num_peers, state_str[s.state]))\n",
    "    time.sleep(5)\n",
    "\n",
    "end = time.time()\n",
    "print(handle.name(), \"COMPLETE\")\n",
    "\n",
    "print(\"Elapsed Time: \",int((end-begin)//60),\"min :\", int((end-begin)%60), \"sec\")\n",
    "\n",
    "print(datetime.datetime.now())"
   ]
  }
 ],
 "metadata": {
  "kernelspec": {
   "display_name": "Python 3",
   "language": "python",
   "name": "python3"
  },
  "language_info": {
   "codemirror_mode": {
    "name": "ipython",
    "version": 3
   },
   "file_extension": ".py",
   "mimetype": "text/x-python",
   "name": "python",
   "nbconvert_exporter": "python",
   "pygments_lexer": "ipython3",
   "version": "3.7.4"
  }
 },
 "nbformat": 4,
 "nbformat_minor": 2
}
